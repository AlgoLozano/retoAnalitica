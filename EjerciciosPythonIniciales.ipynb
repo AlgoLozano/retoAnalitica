{
 "cells": [
  {
   "cell_type": "markdown",
   "id": "7fac354d",
   "metadata": {},
   "source": [
    "# Ejercicios en python\n",
    "\n",
    "## 1) Escribe una función en Python que encuentre números primos hasta N números naturales"
   ]
  },
  {
   "cell_type": "code",
   "execution_count": 5,
   "id": "eef5fae7",
   "metadata": {},
   "outputs": [],
   "source": [
    "import math\n",
    "def encontrarPrimo(n):\n",
    "    primos = []\n",
    "    for i in range(2, n+1):\n",
    "        isPrime = True\n",
    "        limit = sqrt(i)\n",
    "        for j in range(2, limit+1):\n",
    "            if i % j == 0:\n",
    "                isPrime = False\n",
    "                break\n",
    "        if isPrime:\n",
    "            primos.append(i)\n",
    "    return primos\n",
    "        "
   ]
  },
  {
   "cell_type": "code",
   "execution_count": 4,
   "id": "37dc6cbb",
   "metadata": {},
   "outputs": [
    {
     "name": "stdout",
     "output_type": "stream",
     "text": [
      "[2, 3, 5, 7]\n"
     ]
    }
   ],
   "source": [
    "print(encontrarPrimo(10))"
   ]
  },
  {
   "cell_type": "markdown",
   "id": "e65cb01b",
   "metadata": {},
   "source": [
    "## 2) Escribe una función en Python que calcule el producto cruz entre dos vectores"
   ]
  },
  {
   "cell_type": "code",
   "execution_count": 7,
   "id": "39e6f88f",
   "metadata": {},
   "outputs": [],
   "source": [
    "def productoCruz(a,b):\n",
    "    #Esto se crea por la definición de producto cruz (checar)\n",
    "    product = [a[1]*b[2]-a[2]*b[1], a[2]*b[0]-a[0]*b[2], a[0]*b[1]-a[1]*a[0]]\n",
    "    return product"
   ]
  },
  {
   "cell_type": "code",
   "execution_count": 8,
   "id": "52511f1f",
   "metadata": {
    "scrolled": true
   },
   "outputs": [
    {
     "name": "stdout",
     "output_type": "stream",
     "text": [
      "[-1, 1, 0]\n"
     ]
    }
   ],
   "source": [
    "vectorA = [0,0,1]\n",
    "vectorB = [1,1,2]\n",
    "print(productoCruz(vectorA, vectorB))"
   ]
  },
  {
   "cell_type": "code",
   "execution_count": null,
   "id": "fe40318a",
   "metadata": {},
   "outputs": [],
   "source": [
    "def productoCruz(a,b):\n",
    "    file = open(\"vectors.txt\",\"r\")\n",
    "    linea1 = file.readline().strip()\n",
    "    linea2 = file.readline().strip()\n",
    "    file.close()\n",
    "    \n",
    "    vector1 = linea1.split(\",\")\n",
    "    vector2 = linea2.split(\",\")\n",
    "    return product"
   ]
  }
 ],
 "metadata": {
  "kernelspec": {
   "display_name": "Python 3 (ipykernel)",
   "language": "python",
   "name": "python3"
  },
  "language_info": {
   "codemirror_mode": {
    "name": "ipython",
    "version": 3
   },
   "file_extension": ".py",
   "mimetype": "text/x-python",
   "name": "python",
   "nbconvert_exporter": "python",
   "pygments_lexer": "ipython3",
   "version": "3.10.9"
  }
 },
 "nbformat": 4,
 "nbformat_minor": 5
}
